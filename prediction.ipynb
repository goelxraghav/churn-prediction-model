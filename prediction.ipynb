{
 "cells": [
  {
   "cell_type": "code",
   "execution_count": 147,
   "id": "0442f70b",
   "metadata": {},
   "outputs": [],
   "source": [
    "import tensorflow as tf\n",
    "from tensorflow.keras.models import load_model\n",
    "import pickle\n",
    "import pandas as pd\n",
    "import numpy as np\n",
    "from sklearn.preprocessing import LabelEncoder, OneHotEncoder,StandardScaler"
   ]
  },
  {
   "cell_type": "code",
   "execution_count": 148,
   "id": "b7a14fbe",
   "metadata": {},
   "outputs": [
    {
     "name": "stderr",
     "output_type": "stream",
     "text": [
      "WARNING:absl:Compiled the loaded model, but the compiled metrics have yet to be built. `model.compile_metrics` will be empty until you train or evaluate the model.\n"
     ]
    }
   ],
   "source": [
    "# loading the trained model, scaler, one hot encoder, label encoder\n",
    "model=load_model('model.h5')\n",
    "\n",
    "with open('label_encoder_gender.pkl','rb') as file:\n",
    "    label_encoder_gender=pickle.load(file)\n",
    "with open('oh_encoder_country.pkl','rb') as file:\n",
    "    oh_encoder_country=pickle.load(file)\n",
    "with open('scaler.pickle','rb') as file:\n",
    "    scaler=pickle.load(file)"
   ]
  },
  {
   "cell_type": "code",
   "execution_count": 149,
   "id": "f889fbc9",
   "metadata": {},
   "outputs": [],
   "source": [
    "# example inpuyt data\n",
    "input_data={\n",
    "    'credit_score': 600, 'country' : 'France', 'gender': 'Male', 'age': 40, 'tenure': 3, 'balance': 60000,\n",
    "       'products_number': 2, 'credit_card': 1, 'active_member':1, 'estimated_salary':50000\n",
    "}"
   ]
  },
  {
   "cell_type": "code",
   "execution_count": 150,
   "id": "881b5385",
   "metadata": {},
   "outputs": [],
   "source": [
    "\n",
    "input_df=pd.DataFrame([input_data.values()],columns=input_data.keys())"
   ]
  },
  {
   "cell_type": "code",
   "execution_count": 151,
   "id": "cae4bc53",
   "metadata": {},
   "outputs": [
    {
     "name": "stderr",
     "output_type": "stream",
     "text": [
      "d:\\Machine Learning\\Complete Machine Learning\\49_EndToEndDeepLearningANN\\venv\\Lib\\site-packages\\sklearn\\utils\\validation.py:2739: UserWarning: X does not have valid feature names, but OneHotEncoder was fitted with feature names\n",
      "  warnings.warn(\n"
     ]
    }
   ],
   "source": [
    "input_df['gender']=label_encoder_gender.transform(input_df['gender'])\n",
    "country_df=oh_encoder_country.transform([input_df['country']]).toarray()"
   ]
  },
  {
   "cell_type": "code",
   "execution_count": 152,
   "id": "e7712714",
   "metadata": {},
   "outputs": [
    {
     "data": {
      "text/plain": [
       "[array(['France', 'Germany', 'Spain'], dtype=object)]"
      ]
     },
     "execution_count": 152,
     "metadata": {},
     "output_type": "execute_result"
    }
   ],
   "source": [
    "input_df.drop('country',axis=1,inplace=True)\n",
    "oh_encoder_country.categories_"
   ]
  },
  {
   "cell_type": "code",
   "execution_count": 153,
   "id": "5c022a2a",
   "metadata": {},
   "outputs": [],
   "source": [
    "country_df=pd.DataFrame(country_df,columns=['France','Germany','Spain'])\n",
    "x_input=input_df.join(country_df)"
   ]
  },
  {
   "cell_type": "code",
   "execution_count": 154,
   "id": "502da0d4",
   "metadata": {},
   "outputs": [
    {
     "data": {
      "text/html": [
       "<div>\n",
       "<style scoped>\n",
       "    .dataframe tbody tr th:only-of-type {\n",
       "        vertical-align: middle;\n",
       "    }\n",
       "\n",
       "    .dataframe tbody tr th {\n",
       "        vertical-align: top;\n",
       "    }\n",
       "\n",
       "    .dataframe thead th {\n",
       "        text-align: right;\n",
       "    }\n",
       "</style>\n",
       "<table border=\"1\" class=\"dataframe\">\n",
       "  <thead>\n",
       "    <tr style=\"text-align: right;\">\n",
       "      <th></th>\n",
       "      <th>credit_score</th>\n",
       "      <th>gender</th>\n",
       "      <th>age</th>\n",
       "      <th>tenure</th>\n",
       "      <th>balance</th>\n",
       "      <th>products_number</th>\n",
       "      <th>credit_card</th>\n",
       "      <th>active_member</th>\n",
       "      <th>estimated_salary</th>\n",
       "      <th>France</th>\n",
       "      <th>Germany</th>\n",
       "      <th>Spain</th>\n",
       "    </tr>\n",
       "  </thead>\n",
       "  <tbody>\n",
       "    <tr>\n",
       "      <th>0</th>\n",
       "      <td>600</td>\n",
       "      <td>1</td>\n",
       "      <td>40</td>\n",
       "      <td>3</td>\n",
       "      <td>60000</td>\n",
       "      <td>2</td>\n",
       "      <td>1</td>\n",
       "      <td>1</td>\n",
       "      <td>50000</td>\n",
       "      <td>1.0</td>\n",
       "      <td>0.0</td>\n",
       "      <td>0.0</td>\n",
       "    </tr>\n",
       "  </tbody>\n",
       "</table>\n",
       "</div>"
      ],
      "text/plain": [
       "   credit_score  gender  age  tenure  balance  products_number  credit_card  \\\n",
       "0           600       1   40       3    60000                2            1   \n",
       "\n",
       "   active_member  estimated_salary  France  Germany  Spain  \n",
       "0              1             50000     1.0      0.0    0.0  "
      ]
     },
     "execution_count": 154,
     "metadata": {},
     "output_type": "execute_result"
    }
   ],
   "source": [
    "x_input"
   ]
  },
  {
   "cell_type": "code",
   "execution_count": 155,
   "id": "7c927637",
   "metadata": {},
   "outputs": [],
   "source": [
    "x_input=scaler.transform(x_input)"
   ]
  },
  {
   "cell_type": "code",
   "execution_count": 156,
   "id": "fc2cb546",
   "metadata": {},
   "outputs": [
    {
     "data": {
      "text/plain": [
       "array([[-0.53021047,  0.91647499,  0.10832068, -0.6987795 , -0.2648599 ,\n",
       "         0.81255095,  0.64784127,  0.97238125, -0.8658798 ,  0.99252792,\n",
       "        -0.57754272, -0.57138416]])"
      ]
     },
     "execution_count": 156,
     "metadata": {},
     "output_type": "execute_result"
    }
   ],
   "source": [
    "x_input"
   ]
  },
  {
   "cell_type": "code",
   "execution_count": 157,
   "id": "e85b3414",
   "metadata": {},
   "outputs": [
    {
     "name": "stdout",
     "output_type": "stream",
     "text": [
      "\u001b[1m1/1\u001b[0m \u001b[32m━━━━━━━━━━━━━━━━━━━━\u001b[0m\u001b[37m\u001b[0m \u001b[1m0s\u001b[0m 44ms/step\n"
     ]
    }
   ],
   "source": [
    "input_prediction=model.predict(x_input)"
   ]
  },
  {
   "cell_type": "code",
   "execution_count": 158,
   "id": "dfedbd19",
   "metadata": {},
   "outputs": [
    {
     "data": {
      "text/plain": [
       "np.float32(0.02126074)"
      ]
     },
     "execution_count": 158,
     "metadata": {},
     "output_type": "execute_result"
    }
   ],
   "source": [
    "prediction_proba=input_prediction[0][0]\n",
    "prediction_proba"
   ]
  },
  {
   "cell_type": "code",
   "execution_count": 159,
   "id": "ea764c4b",
   "metadata": {},
   "outputs": [
    {
     "name": "stdout",
     "output_type": "stream",
     "text": [
      "The customer is not likely to churn.\n"
     ]
    }
   ],
   "source": [
    "if prediction_proba>0.5:\n",
    "    print(\"The Customer is likely to chrun.\")\n",
    "else:\n",
    "    print(\"The customer is not likely to churn.\")"
   ]
  }
 ],
 "metadata": {
  "kernelspec": {
   "display_name": "Python 3",
   "language": "python",
   "name": "python3"
  },
  "language_info": {
   "codemirror_mode": {
    "name": "ipython",
    "version": 3
   },
   "file_extension": ".py",
   "mimetype": "text/x-python",
   "name": "python",
   "nbconvert_exporter": "python",
   "pygments_lexer": "ipython3",
   "version": "3.12.9"
  }
 },
 "nbformat": 4,
 "nbformat_minor": 5
}
